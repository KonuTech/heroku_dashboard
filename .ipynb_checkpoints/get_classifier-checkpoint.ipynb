{
 "cells": [
  {
   "cell_type": "markdown",
   "id": "14921fd1",
   "metadata": {},
   "source": [
    "https://towardsdatascience.com/full-machine-learning-pipeline-from-data-processing-to-model-deployment-4b501740922d"
   ]
  },
  {
   "cell_type": "markdown",
   "id": "14518ebb",
   "metadata": {},
   "source": [
    "https://www.ahmedbesbes.com/blog/end-to-end-machine-learning"
   ]
  },
  {
   "cell_type": "code",
   "execution_count": 1,
   "id": "5bf4aaf0",
   "metadata": {},
   "outputs": [],
   "source": [
    "import pandas as pd\n",
    "import pickle\n",
    "from joblib import dump"
   ]
  },
  {
   "cell_type": "code",
   "execution_count": 2,
   "id": "4e7234c0",
   "metadata": {},
   "outputs": [],
   "source": [
    "from sklearn.base import BaseEstimator, TransformerMixin\n",
    "from sklearn.preprocessing import OneHotEncoder, StandardScaler\n",
    "from sklearn.impute import KNNImputer, SimpleImputer\n",
    "from sklearn.pipeline import FeatureUnion, Pipeline \n",
    "from sklearn.compose import ColumnTransformer\n",
    "from sklearn.model_selection import train_test_split, cross_validate, cross_val_predict, GridSearchCV"
   ]
  },
  {
   "cell_type": "code",
   "execution_count": 3,
   "id": "555a21c6",
   "metadata": {},
   "outputs": [],
   "source": [
    "from sklearn.metrics import log_loss, make_scorer, precision_score, recall_score, accuracy_score, f1_score\n",
    "from joblib import dump, load\n",
    "from sklearn.neighbors import KNeighborsClassifier\n",
    "from sklearn.ensemble import RandomForestClassifier, GradientBoostingClassifier"
   ]
  },
  {
   "cell_type": "code",
   "execution_count": 4,
   "id": "ed75735e",
   "metadata": {},
   "outputs": [],
   "source": [
    "df = (pd.read_csv(\"data\\\\Customer-Value-Analysis.csv\").set_index(\"Customer\"))"
   ]
  },
  {
   "cell_type": "code",
   "execution_count": 5,
   "id": "7e94547f",
   "metadata": {},
   "outputs": [
    {
     "data": {
      "text/html": [
       "<div>\n",
       "<style scoped>\n",
       "    .dataframe tbody tr th:only-of-type {\n",
       "        vertical-align: middle;\n",
       "    }\n",
       "\n",
       "    .dataframe tbody tr th {\n",
       "        vertical-align: top;\n",
       "    }\n",
       "\n",
       "    .dataframe thead th {\n",
       "        text-align: right;\n",
       "    }\n",
       "</style>\n",
       "<table border=\"1\" class=\"dataframe\">\n",
       "  <thead>\n",
       "    <tr style=\"text-align: right;\">\n",
       "      <th></th>\n",
       "      <th>State</th>\n",
       "      <th>Customer Lifetime Value</th>\n",
       "      <th>Response</th>\n",
       "      <th>Coverage</th>\n",
       "      <th>Education</th>\n",
       "      <th>Effective To Date</th>\n",
       "      <th>EmploymentStatus</th>\n",
       "      <th>Gender</th>\n",
       "      <th>Income</th>\n",
       "      <th>Location Code</th>\n",
       "      <th>...</th>\n",
       "      <th>Months Since Policy Inception</th>\n",
       "      <th>Number of Open Complaints</th>\n",
       "      <th>Number of Policies</th>\n",
       "      <th>Policy Type</th>\n",
       "      <th>Policy</th>\n",
       "      <th>Renew Offer Type</th>\n",
       "      <th>Sales Channel</th>\n",
       "      <th>Total Claim Amount</th>\n",
       "      <th>Vehicle Class</th>\n",
       "      <th>Vehicle Size</th>\n",
       "    </tr>\n",
       "    <tr>\n",
       "      <th>Customer</th>\n",
       "      <th></th>\n",
       "      <th></th>\n",
       "      <th></th>\n",
       "      <th></th>\n",
       "      <th></th>\n",
       "      <th></th>\n",
       "      <th></th>\n",
       "      <th></th>\n",
       "      <th></th>\n",
       "      <th></th>\n",
       "      <th></th>\n",
       "      <th></th>\n",
       "      <th></th>\n",
       "      <th></th>\n",
       "      <th></th>\n",
       "      <th></th>\n",
       "      <th></th>\n",
       "      <th></th>\n",
       "      <th></th>\n",
       "      <th></th>\n",
       "      <th></th>\n",
       "    </tr>\n",
       "  </thead>\n",
       "  <tbody>\n",
       "    <tr>\n",
       "      <th>BX24569</th>\n",
       "      <td>California</td>\n",
       "      <td>3567.503755</td>\n",
       "      <td>Yes</td>\n",
       "      <td>Basic</td>\n",
       "      <td>Bachelor</td>\n",
       "      <td>1/7/11</td>\n",
       "      <td>Unemployed</td>\n",
       "      <td>M</td>\n",
       "      <td>0</td>\n",
       "      <td>Suburban</td>\n",
       "      <td>...</td>\n",
       "      <td>11</td>\n",
       "      <td>0</td>\n",
       "      <td>1</td>\n",
       "      <td>Personal Auto</td>\n",
       "      <td>Personal L2</td>\n",
       "      <td>Offer2</td>\n",
       "      <td>Agent</td>\n",
       "      <td>660.430456</td>\n",
       "      <td>SUV</td>\n",
       "      <td>Medsize</td>\n",
       "    </tr>\n",
       "    <tr>\n",
       "      <th>FZ24763</th>\n",
       "      <td>California</td>\n",
       "      <td>5078.451231</td>\n",
       "      <td>No</td>\n",
       "      <td>Basic</td>\n",
       "      <td>Bachelor</td>\n",
       "      <td>1/4/11</td>\n",
       "      <td>Employed</td>\n",
       "      <td>M</td>\n",
       "      <td>35289</td>\n",
       "      <td>Rural</td>\n",
       "      <td>...</td>\n",
       "      <td>94</td>\n",
       "      <td>0</td>\n",
       "      <td>3</td>\n",
       "      <td>Personal Auto</td>\n",
       "      <td>Personal L1</td>\n",
       "      <td>Offer4</td>\n",
       "      <td>Web</td>\n",
       "      <td>123.945627</td>\n",
       "      <td>Four-Door Car</td>\n",
       "      <td>Medsize</td>\n",
       "    </tr>\n",
       "    <tr>\n",
       "      <th>EZ78112</th>\n",
       "      <td>California</td>\n",
       "      <td>5610.964340</td>\n",
       "      <td>No</td>\n",
       "      <td>Basic</td>\n",
       "      <td>High School or Below</td>\n",
       "      <td>2/24/11</td>\n",
       "      <td>Employed</td>\n",
       "      <td>F</td>\n",
       "      <td>77493</td>\n",
       "      <td>Urban</td>\n",
       "      <td>...</td>\n",
       "      <td>35</td>\n",
       "      <td>0</td>\n",
       "      <td>3</td>\n",
       "      <td>Special Auto</td>\n",
       "      <td>Special L3</td>\n",
       "      <td>Offer1</td>\n",
       "      <td>Agent</td>\n",
       "      <td>307.963291</td>\n",
       "      <td>Four-Door Car</td>\n",
       "      <td>Medsize</td>\n",
       "    </tr>\n",
       "  </tbody>\n",
       "</table>\n",
       "<p>3 rows × 23 columns</p>\n",
       "</div>"
      ],
      "text/plain": [
       "               State  Customer Lifetime Value Response Coverage  \\\n",
       "Customer                                                          \n",
       "BX24569   California              3567.503755      Yes    Basic   \n",
       "FZ24763   California              5078.451231       No    Basic   \n",
       "EZ78112   California              5610.964340       No    Basic   \n",
       "\n",
       "                     Education Effective To Date EmploymentStatus Gender  \\\n",
       "Customer                                                                   \n",
       "BX24569               Bachelor            1/7/11       Unemployed      M   \n",
       "FZ24763               Bachelor            1/4/11         Employed      M   \n",
       "EZ78112   High School or Below           2/24/11         Employed      F   \n",
       "\n",
       "          Income Location Code  ... Months Since Policy Inception  \\\n",
       "Customer                        ...                                 \n",
       "BX24569        0      Suburban  ...                            11   \n",
       "FZ24763    35289         Rural  ...                            94   \n",
       "EZ78112    77493         Urban  ...                            35   \n",
       "\n",
       "          Number of Open Complaints  Number of Policies    Policy Type  \\\n",
       "Customer                                                                 \n",
       "BX24569                           0                   1  Personal Auto   \n",
       "FZ24763                           0                   3  Personal Auto   \n",
       "EZ78112                           0                   3   Special Auto   \n",
       "\n",
       "               Policy  Renew Offer Type Sales Channel Total Claim Amount  \\\n",
       "Customer                                                                   \n",
       "BX24569   Personal L2            Offer2         Agent         660.430456   \n",
       "FZ24763   Personal L1            Offer4           Web         123.945627   \n",
       "EZ78112    Special L3            Offer1         Agent         307.963291   \n",
       "\n",
       "          Vehicle Class Vehicle Size  \n",
       "Customer                              \n",
       "BX24569             SUV      Medsize  \n",
       "FZ24763   Four-Door Car      Medsize  \n",
       "EZ78112   Four-Door Car      Medsize  \n",
       "\n",
       "[3 rows x 23 columns]"
      ]
     },
     "execution_count": 5,
     "metadata": {},
     "output_type": "execute_result"
    }
   ],
   "source": [
    "df.sample(3)"
   ]
  },
  {
   "cell_type": "code",
   "execution_count": 6,
   "id": "54408439",
   "metadata": {},
   "outputs": [
    {
     "name": "stdout",
     "output_type": "stream",
     "text": [
      "<class 'pandas.core.frame.DataFrame'>\n",
      "Index: 9134 entries, BU79786 to Y167826\n",
      "Data columns (total 23 columns):\n",
      " #   Column                         Non-Null Count  Dtype  \n",
      "---  ------                         --------------  -----  \n",
      " 0   State                          9134 non-null   object \n",
      " 1   Customer Lifetime Value        9134 non-null   float64\n",
      " 2   Response                       9134 non-null   object \n",
      " 3   Coverage                       9134 non-null   object \n",
      " 4   Education                      9134 non-null   object \n",
      " 5   Effective To Date              9134 non-null   object \n",
      " 6   EmploymentStatus               9134 non-null   object \n",
      " 7   Gender                         9134 non-null   object \n",
      " 8   Income                         9134 non-null   int64  \n",
      " 9   Location Code                  9134 non-null   object \n",
      " 10  Marital Status                 9134 non-null   object \n",
      " 11  Monthly Premium Auto           9134 non-null   int64  \n",
      " 12  Months Since Last Claim        9134 non-null   int64  \n",
      " 13  Months Since Policy Inception  9134 non-null   int64  \n",
      " 14  Number of Open Complaints      9134 non-null   int64  \n",
      " 15  Number of Policies             9134 non-null   int64  \n",
      " 16  Policy Type                    9134 non-null   object \n",
      " 17  Policy                         9134 non-null   object \n",
      " 18  Renew Offer Type               9134 non-null   object \n",
      " 19  Sales Channel                  9134 non-null   object \n",
      " 20  Total Claim Amount             9134 non-null   float64\n",
      " 21  Vehicle Class                  9134 non-null   object \n",
      " 22  Vehicle Size                   9134 non-null   object \n",
      "dtypes: float64(2), int64(6), object(15)\n",
      "memory usage: 1.7+ MB\n"
     ]
    }
   ],
   "source": [
    "df.info()"
   ]
  },
  {
   "cell_type": "code",
   "execution_count": 7,
   "id": "4c37e3f5",
   "metadata": {},
   "outputs": [],
   "source": [
    "X = df.drop(['Response'], axis = 1)\n",
    "y = df.Response.apply(lambda X : 0 if X == 'No' else 1)"
   ]
  },
  {
   "cell_type": "code",
   "execution_count": 8,
   "id": "934e2e66",
   "metadata": {},
   "outputs": [],
   "source": [
    "# categorical features\n",
    "cats = [var for var, var_type in X.dtypes.items() if var_type=='object']\n",
    "# numerical features\n",
    "nums = [var for var in X.columns if var not in cats]"
   ]
  },
  {
   "cell_type": "code",
   "execution_count": 9,
   "id": "cd447eda",
   "metadata": {},
   "outputs": [
    {
     "data": {
      "text/plain": [
       "['State',\n",
       " 'Coverage',\n",
       " 'Education',\n",
       " 'Effective To Date',\n",
       " 'EmploymentStatus',\n",
       " 'Gender',\n",
       " 'Location Code',\n",
       " 'Marital Status',\n",
       " 'Policy Type',\n",
       " 'Policy',\n",
       " 'Renew Offer Type',\n",
       " 'Sales Channel',\n",
       " 'Vehicle Class',\n",
       " 'Vehicle Size']"
      ]
     },
     "execution_count": 9,
     "metadata": {},
     "output_type": "execute_result"
    }
   ],
   "source": [
    "cats"
   ]
  },
  {
   "cell_type": "code",
   "execution_count": 10,
   "id": "a36813a5",
   "metadata": {},
   "outputs": [
    {
     "data": {
      "text/plain": [
       "['Customer Lifetime Value',\n",
       " 'Income',\n",
       " 'Monthly Premium Auto',\n",
       " 'Months Since Last Claim',\n",
       " 'Months Since Policy Inception',\n",
       " 'Number of Open Complaints',\n",
       " 'Number of Policies',\n",
       " 'Total Claim Amount']"
      ]
     },
     "execution_count": 10,
     "metadata": {},
     "output_type": "execute_result"
    }
   ],
   "source": [
    "nums"
   ]
  },
  {
   "cell_type": "code",
   "execution_count": 11,
   "id": "995cb1ae",
   "metadata": {},
   "outputs": [],
   "source": [
    "# #Custom Transformer that extracts columns passed as argument to its constructor \n",
    "# class FeatureSelector(BaseEstimator, TransformerMixin ):\n",
    "#     #Class Constructor \n",
    "#     def __init__( self, feature_names):\n",
    "#         self._feature_names = feature_names \n",
    "        \n",
    "#     #Return self nothing else to do here    \n",
    "#     def fit( self, X, y = None ):\n",
    "#         return self \n",
    "    \n",
    "#     #Method that describes what we need this transformer to do\n",
    "#     def transform( self, X, y = None ):\n",
    "#         return X[self._feature_names].values "
   ]
  },
  {
   "cell_type": "code",
   "execution_count": 12,
   "id": "a106302e",
   "metadata": {},
   "outputs": [],
   "source": [
    "#Defining the steps in the categorical pipeline \n",
    "cat_pipeline = Pipeline([(\"imputer\", SimpleImputer(strategy=\"most_frequent\")),\n",
    "                         ('one_hot_encoder', OneHotEncoder(sparse=False))])\n",
    "    \n",
    "#Defining the steps in the numerical pipeline     \n",
    "num_pipeline = Pipeline([\n",
    "        (\"imputer\", SimpleImputer(strategy=\"median\")),\n",
    "        ('std_scaler', StandardScaler()),\n",
    "    ])\n",
    "\n",
    "#Combining numerical and categorical piepline into one full big pipeline horizontally \n",
    "#using FeatureUnion\n",
    "full_pipeline = ColumnTransformer(transformers = [('num_pipeline', num_pipeline, nums),\n",
    "                                                  ('cat_pipeline', cat_pipeline, cats)])"
   ]
  },
  {
   "cell_type": "code",
   "execution_count": 13,
   "id": "67532de5",
   "metadata": {},
   "outputs": [],
   "source": [
    "X_train, X_test, y_train, y_test = train_test_split(X, y, test_size = 0.2, random_state = 42)\n",
    "#fit and transform the custom transformer in train\n",
    "X_train_processed = full_pipeline.fit_transform(X_train)\n",
    "# transform the test with the trained tansformer\n",
    "X_test_processed = full_pipeline.transform(X_test)"
   ]
  },
  {
   "cell_type": "code",
   "execution_count": 14,
   "id": "933c3c12",
   "metadata": {},
   "outputs": [
    {
     "name": "stdout",
     "output_type": "stream",
     "text": [
      "<class 'pandas.core.frame.DataFrame'>\n",
      "RangeIndex: 7307 entries, 0 to 7306\n",
      "Data columns (total 122 columns):\n",
      " #    Column  Dtype  \n",
      "---   ------  -----  \n",
      " 0    0       float64\n",
      " 1    1       float64\n",
      " 2    2       float64\n",
      " 3    3       float64\n",
      " 4    4       float64\n",
      " 5    5       float64\n",
      " 6    6       float64\n",
      " 7    7       float64\n",
      " 8    8       float64\n",
      " 9    9       float64\n",
      " 10   10      float64\n",
      " 11   11      float64\n",
      " 12   12      float64\n",
      " 13   13      float64\n",
      " 14   14      float64\n",
      " 15   15      float64\n",
      " 16   16      float64\n",
      " 17   17      float64\n",
      " 18   18      float64\n",
      " 19   19      float64\n",
      " 20   20      float64\n",
      " 21   21      float64\n",
      " 22   22      float64\n",
      " 23   23      float64\n",
      " 24   24      float64\n",
      " 25   25      float64\n",
      " 26   26      float64\n",
      " 27   27      float64\n",
      " 28   28      float64\n",
      " 29   29      float64\n",
      " 30   30      float64\n",
      " 31   31      float64\n",
      " 32   32      float64\n",
      " 33   33      float64\n",
      " 34   34      float64\n",
      " 35   35      float64\n",
      " 36   36      float64\n",
      " 37   37      float64\n",
      " 38   38      float64\n",
      " 39   39      float64\n",
      " 40   40      float64\n",
      " 41   41      float64\n",
      " 42   42      float64\n",
      " 43   43      float64\n",
      " 44   44      float64\n",
      " 45   45      float64\n",
      " 46   46      float64\n",
      " 47   47      float64\n",
      " 48   48      float64\n",
      " 49   49      float64\n",
      " 50   50      float64\n",
      " 51   51      float64\n",
      " 52   52      float64\n",
      " 53   53      float64\n",
      " 54   54      float64\n",
      " 55   55      float64\n",
      " 56   56      float64\n",
      " 57   57      float64\n",
      " 58   58      float64\n",
      " 59   59      float64\n",
      " 60   60      float64\n",
      " 61   61      float64\n",
      " 62   62      float64\n",
      " 63   63      float64\n",
      " 64   64      float64\n",
      " 65   65      float64\n",
      " 66   66      float64\n",
      " 67   67      float64\n",
      " 68   68      float64\n",
      " 69   69      float64\n",
      " 70   70      float64\n",
      " 71   71      float64\n",
      " 72   72      float64\n",
      " 73   73      float64\n",
      " 74   74      float64\n",
      " 75   75      float64\n",
      " 76   76      float64\n",
      " 77   77      float64\n",
      " 78   78      float64\n",
      " 79   79      float64\n",
      " 80   80      float64\n",
      " 81   81      float64\n",
      " 82   82      float64\n",
      " 83   83      float64\n",
      " 84   84      float64\n",
      " 85   85      float64\n",
      " 86   86      float64\n",
      " 87   87      float64\n",
      " 88   88      float64\n",
      " 89   89      float64\n",
      " 90   90      float64\n",
      " 91   91      float64\n",
      " 92   92      float64\n",
      " 93   93      float64\n",
      " 94   94      float64\n",
      " 95   95      float64\n",
      " 96   96      float64\n",
      " 97   97      float64\n",
      " 98   98      float64\n",
      " 99   99      float64\n",
      " 100  100     float64\n",
      " 101  101     float64\n",
      " 102  102     float64\n",
      " 103  103     float64\n",
      " 104  104     float64\n",
      " 105  105     float64\n",
      " 106  106     float64\n",
      " 107  107     float64\n",
      " 108  108     float64\n",
      " 109  109     float64\n",
      " 110  110     float64\n",
      " 111  111     float64\n",
      " 112  112     float64\n",
      " 113  113     float64\n",
      " 114  114     float64\n",
      " 115  115     float64\n",
      " 116  116     float64\n",
      " 117  117     float64\n",
      " 118  118     float64\n",
      " 119  119     float64\n",
      " 120  120     float64\n",
      " 121  121     float64\n",
      "dtypes: float64(122)\n",
      "memory usage: 6.8 MB\n"
     ]
    }
   ],
   "source": [
    "pd.DataFrame(X_train_processed).info(verbose=1)"
   ]
  },
  {
   "cell_type": "code",
   "execution_count": 15,
   "id": "48a70b20",
   "metadata": {},
   "outputs": [
    {
     "data": {
      "text/html": [
       "<div>\n",
       "<style scoped>\n",
       "    .dataframe tbody tr th:only-of-type {\n",
       "        vertical-align: middle;\n",
       "    }\n",
       "\n",
       "    .dataframe tbody tr th {\n",
       "        vertical-align: top;\n",
       "    }\n",
       "\n",
       "    .dataframe thead th {\n",
       "        text-align: right;\n",
       "    }\n",
       "</style>\n",
       "<table border=\"1\" class=\"dataframe\">\n",
       "  <thead>\n",
       "    <tr style=\"text-align: right;\">\n",
       "      <th></th>\n",
       "      <th>0</th>\n",
       "      <th>1</th>\n",
       "      <th>2</th>\n",
       "      <th>3</th>\n",
       "      <th>4</th>\n",
       "      <th>5</th>\n",
       "      <th>6</th>\n",
       "      <th>7</th>\n",
       "      <th>8</th>\n",
       "      <th>9</th>\n",
       "      <th>...</th>\n",
       "      <th>112</th>\n",
       "      <th>113</th>\n",
       "      <th>114</th>\n",
       "      <th>115</th>\n",
       "      <th>116</th>\n",
       "      <th>117</th>\n",
       "      <th>118</th>\n",
       "      <th>119</th>\n",
       "      <th>120</th>\n",
       "      <th>121</th>\n",
       "    </tr>\n",
       "  </thead>\n",
       "  <tbody>\n",
       "    <tr>\n",
       "      <th>1618</th>\n",
       "      <td>0.173276</td>\n",
       "      <td>-1.242714</td>\n",
       "      <td>-0.391116</td>\n",
       "      <td>-0.503057</td>\n",
       "      <td>-1.320996</td>\n",
       "      <td>-0.41699</td>\n",
       "      <td>-0.411632</td>\n",
       "      <td>0.463909</td>\n",
       "      <td>0.0</td>\n",
       "      <td>1.0</td>\n",
       "      <td>...</td>\n",
       "      <td>0.0</td>\n",
       "      <td>1.0</td>\n",
       "      <td>0.0</td>\n",
       "      <td>0.0</td>\n",
       "      <td>0.0</td>\n",
       "      <td>0.0</td>\n",
       "      <td>0.0</td>\n",
       "      <td>0.0</td>\n",
       "      <td>1.0</td>\n",
       "      <td>0.0</td>\n",
       "    </tr>\n",
       "    <tr>\n",
       "      <th>1594</th>\n",
       "      <td>3.747575</td>\n",
       "      <td>-0.143350</td>\n",
       "      <td>0.358659</td>\n",
       "      <td>0.288744</td>\n",
       "      <td>1.681386</td>\n",
       "      <td>-0.41699</td>\n",
       "      <td>-0.411632</td>\n",
       "      <td>0.244937</td>\n",
       "      <td>0.0</td>\n",
       "      <td>0.0</td>\n",
       "      <td>...</td>\n",
       "      <td>1.0</td>\n",
       "      <td>0.0</td>\n",
       "      <td>0.0</td>\n",
       "      <td>0.0</td>\n",
       "      <td>1.0</td>\n",
       "      <td>0.0</td>\n",
       "      <td>0.0</td>\n",
       "      <td>0.0</td>\n",
       "      <td>1.0</td>\n",
       "      <td>0.0</td>\n",
       "    </tr>\n",
       "    <tr>\n",
       "      <th>6425</th>\n",
       "      <td>0.003252</td>\n",
       "      <td>1.121995</td>\n",
       "      <td>-0.766003</td>\n",
       "      <td>1.377471</td>\n",
       "      <td>-0.320202</td>\n",
       "      <td>-0.41699</td>\n",
       "      <td>-0.411632</td>\n",
       "      <td>-0.523630</td>\n",
       "      <td>0.0</td>\n",
       "      <td>1.0</td>\n",
       "      <td>...</td>\n",
       "      <td>0.0</td>\n",
       "      <td>1.0</td>\n",
       "      <td>0.0</td>\n",
       "      <td>0.0</td>\n",
       "      <td>0.0</td>\n",
       "      <td>0.0</td>\n",
       "      <td>0.0</td>\n",
       "      <td>0.0</td>\n",
       "      <td>1.0</td>\n",
       "      <td>0.0</td>\n",
       "    </tr>\n",
       "  </tbody>\n",
       "</table>\n",
       "<p>3 rows × 122 columns</p>\n",
       "</div>"
      ],
      "text/plain": [
       "           0         1         2         3         4        5         6    \\\n",
       "1618  0.173276 -1.242714 -0.391116 -0.503057 -1.320996 -0.41699 -0.411632   \n",
       "1594  3.747575 -0.143350  0.358659  0.288744  1.681386 -0.41699 -0.411632   \n",
       "6425  0.003252  1.121995 -0.766003  1.377471 -0.320202 -0.41699 -0.411632   \n",
       "\n",
       "           7    8    9    ...  112  113  114  115  116  117  118  119  120  \\\n",
       "1618  0.463909  0.0  1.0  ...  0.0  1.0  0.0  0.0  0.0  0.0  0.0  0.0  1.0   \n",
       "1594  0.244937  0.0  0.0  ...  1.0  0.0  0.0  0.0  1.0  0.0  0.0  0.0  1.0   \n",
       "6425 -0.523630  0.0  1.0  ...  0.0  1.0  0.0  0.0  0.0  0.0  0.0  0.0  1.0   \n",
       "\n",
       "      121  \n",
       "1618  0.0  \n",
       "1594  0.0  \n",
       "6425  0.0  \n",
       "\n",
       "[3 rows x 122 columns]"
      ]
     },
     "execution_count": 15,
     "metadata": {},
     "output_type": "execute_result"
    }
   ],
   "source": [
    "pd.DataFrame(X_train_processed).sample(3)"
   ]
  },
  {
   "cell_type": "code",
   "execution_count": 16,
   "id": "7ae1c597",
   "metadata": {},
   "outputs": [
    {
     "data": {
      "text/plain": [
       "{'n_jobs': None,\n",
       " 'remainder': 'drop',\n",
       " 'sparse_threshold': 0.3,\n",
       " 'transformer_weights': None,\n",
       " 'transformers': [('num_pipeline',\n",
       "   Pipeline(steps=[('imputer', SimpleImputer(strategy='median')),\n",
       "                   ('std_scaler', StandardScaler())]),\n",
       "   ['Customer Lifetime Value',\n",
       "    'Income',\n",
       "    'Monthly Premium Auto',\n",
       "    'Months Since Last Claim',\n",
       "    'Months Since Policy Inception',\n",
       "    'Number of Open Complaints',\n",
       "    'Number of Policies',\n",
       "    'Total Claim Amount']),\n",
       "  ('cat_pipeline',\n",
       "   Pipeline(steps=[('imputer', SimpleImputer(strategy='most_frequent')),\n",
       "                   ('one_hot_encoder', OneHotEncoder(sparse=False))]),\n",
       "   ['State',\n",
       "    'Coverage',\n",
       "    'Education',\n",
       "    'Effective To Date',\n",
       "    'EmploymentStatus',\n",
       "    'Gender',\n",
       "    'Location Code',\n",
       "    'Marital Status',\n",
       "    'Policy Type',\n",
       "    'Policy',\n",
       "    'Renew Offer Type',\n",
       "    'Sales Channel',\n",
       "    'Vehicle Class',\n",
       "    'Vehicle Size'])],\n",
       " 'verbose': False,\n",
       " 'verbose_feature_names_out': True,\n",
       " 'num_pipeline': Pipeline(steps=[('imputer', SimpleImputer(strategy='median')),\n",
       "                 ('std_scaler', StandardScaler())]),\n",
       " 'cat_pipeline': Pipeline(steps=[('imputer', SimpleImputer(strategy='most_frequent')),\n",
       "                 ('one_hot_encoder', OneHotEncoder(sparse=False))]),\n",
       " 'num_pipeline__memory': None,\n",
       " 'num_pipeline__steps': [('imputer', SimpleImputer(strategy='median')),\n",
       "  ('std_scaler', StandardScaler())],\n",
       " 'num_pipeline__verbose': False,\n",
       " 'num_pipeline__imputer': SimpleImputer(strategy='median'),\n",
       " 'num_pipeline__std_scaler': StandardScaler(),\n",
       " 'num_pipeline__imputer__add_indicator': False,\n",
       " 'num_pipeline__imputer__copy': True,\n",
       " 'num_pipeline__imputer__fill_value': None,\n",
       " 'num_pipeline__imputer__missing_values': nan,\n",
       " 'num_pipeline__imputer__strategy': 'median',\n",
       " 'num_pipeline__imputer__verbose': 0,\n",
       " 'num_pipeline__std_scaler__copy': True,\n",
       " 'num_pipeline__std_scaler__with_mean': True,\n",
       " 'num_pipeline__std_scaler__with_std': True,\n",
       " 'cat_pipeline__memory': None,\n",
       " 'cat_pipeline__steps': [('imputer', SimpleImputer(strategy='most_frequent')),\n",
       "  ('one_hot_encoder', OneHotEncoder(sparse=False))],\n",
       " 'cat_pipeline__verbose': False,\n",
       " 'cat_pipeline__imputer': SimpleImputer(strategy='most_frequent'),\n",
       " 'cat_pipeline__one_hot_encoder': OneHotEncoder(sparse=False),\n",
       " 'cat_pipeline__imputer__add_indicator': False,\n",
       " 'cat_pipeline__imputer__copy': True,\n",
       " 'cat_pipeline__imputer__fill_value': None,\n",
       " 'cat_pipeline__imputer__missing_values': nan,\n",
       " 'cat_pipeline__imputer__strategy': 'most_frequent',\n",
       " 'cat_pipeline__imputer__verbose': 0,\n",
       " 'cat_pipeline__one_hot_encoder__categories': 'auto',\n",
       " 'cat_pipeline__one_hot_encoder__drop': None,\n",
       " 'cat_pipeline__one_hot_encoder__dtype': numpy.float64,\n",
       " 'cat_pipeline__one_hot_encoder__handle_unknown': 'error',\n",
       " 'cat_pipeline__one_hot_encoder__sparse': False}"
      ]
     },
     "execution_count": 16,
     "metadata": {},
     "output_type": "execute_result"
    }
   ],
   "source": [
    "full_pipeline.get_params()"
   ]
  },
  {
   "cell_type": "code",
   "execution_count": 17,
   "id": "b802d3db",
   "metadata": {},
   "outputs": [
    {
     "data": {
      "text/plain": [
       "['State',\n",
       " 'Coverage',\n",
       " 'Education',\n",
       " 'Effective To Date',\n",
       " 'EmploymentStatus',\n",
       " 'Gender',\n",
       " 'Location Code',\n",
       " 'Marital Status',\n",
       " 'Policy Type',\n",
       " 'Policy',\n",
       " 'Renew Offer Type',\n",
       " 'Sales Channel',\n",
       " 'Vehicle Class',\n",
       " 'Vehicle Size']"
      ]
     },
     "execution_count": 17,
     "metadata": {},
     "output_type": "execute_result"
    }
   ],
   "source": [
    "cat_step = full_pipeline.get_params()['transformers'][-1][-1]\n",
    "cat_step"
   ]
  },
  {
   "cell_type": "code",
   "execution_count": 18,
   "id": "aadd7ab1",
   "metadata": {},
   "outputs": [
    {
     "data": {
      "text/plain": [
       "OneHotEncoder(sparse=False)"
      ]
     },
     "execution_count": 18,
     "metadata": {},
     "output_type": "execute_result"
    }
   ],
   "source": [
    "ohe = full_pipeline.get_params()['cat_pipeline__steps'][-1][-1]\n",
    "ohe"
   ]
  },
  {
   "cell_type": "code",
   "execution_count": 19,
   "id": "7710bc2a",
   "metadata": {},
   "outputs": [
    {
     "data": {
      "text/plain": [
       "{'State': OneHotEncoder(sparse=False),\n",
       " 'Coverage': OneHotEncoder(sparse=False),\n",
       " 'Education': OneHotEncoder(sparse=False),\n",
       " 'Effective To Date': OneHotEncoder(sparse=False),\n",
       " 'EmploymentStatus': OneHotEncoder(sparse=False),\n",
       " 'Gender': OneHotEncoder(sparse=False),\n",
       " 'Location Code': OneHotEncoder(sparse=False),\n",
       " 'Marital Status': OneHotEncoder(sparse=False),\n",
       " 'Policy Type': OneHotEncoder(sparse=False),\n",
       " 'Policy': OneHotEncoder(sparse=False),\n",
       " 'Renew Offer Type': OneHotEncoder(sparse=False),\n",
       " 'Sales Channel': OneHotEncoder(sparse=False),\n",
       " 'Vehicle Class': OneHotEncoder(sparse=False),\n",
       " 'Vehicle Size': OneHotEncoder(sparse=False)}"
      ]
     },
     "execution_count": 19,
     "metadata": {},
     "output_type": "execute_result"
    }
   ],
   "source": [
    "ohe_categories = dict(zip(cat_step, [ohe] * len(cat_step)))\n",
    "ohe_categories"
   ]
  },
  {
   "cell_type": "code",
   "execution_count": 20,
   "id": "9fd0f456",
   "metadata": {},
   "outputs": [],
   "source": [
    "output_path = \"model\\\\ohe_categories.pkl\"\n",
    "with open(output_path, 'wb') as output:\n",
    "        pickle.dump(ohe_categories, output, pickle.HIGHEST_PROTOCOL)"
   ]
  },
  {
   "cell_type": "code",
   "execution_count": 21,
   "id": "102da16f",
   "metadata": {},
   "outputs": [],
   "source": [
    "import numpy as np\n",
    "import math\n",
    "\n",
    "# labels_dict : {ind_label: count_label}\n",
    "# mu : parameter to tune \n",
    "\n",
    "def create_class_weight(labels_dict,mu=0.43):\n",
    "    total = np.sum(list(labels_dict.values()))\n",
    "    keys = labels_dict.keys()\n",
    "    class_weight = dict()\n",
    "    \n",
    "    for key in keys:\n",
    "        score = math.log(mu*total/float(labels_dict[key]))\n",
    "        class_weight[key] = score if score > 1.0 else 1.0\n",
    "    \n",
    "    return class_weight"
   ]
  },
  {
   "cell_type": "code",
   "execution_count": 22,
   "id": "3022a0c3",
   "metadata": {},
   "outputs": [
    {
     "data": {
      "text/plain": [
       "0    6265\n",
       "1    1042\n",
       "Name: Response, dtype: int64"
      ]
     },
     "execution_count": 22,
     "metadata": {},
     "output_type": "execute_result"
    }
   ],
   "source": [
    "y_train.value_counts()"
   ]
  },
  {
   "cell_type": "code",
   "execution_count": 23,
   "id": "8e03226a",
   "metadata": {},
   "outputs": [],
   "source": [
    "labels_dict = {0: y_train.value_counts()[0], 1: y_train.value_counts()[1]}"
   ]
  },
  {
   "cell_type": "code",
   "execution_count": 24,
   "id": "ea7a75c4",
   "metadata": {},
   "outputs": [],
   "source": [
    "class_weight = create_class_weight(labels_dict)"
   ]
  },
  {
   "cell_type": "code",
   "execution_count": 25,
   "id": "e7895792",
   "metadata": {},
   "outputs": [
    {
     "data": {
      "text/plain": [
       "{0: 1.0, 1: 1.1037207791833765}"
      ]
     },
     "execution_count": 25,
     "metadata": {},
     "output_type": "execute_result"
    }
   ],
   "source": [
    "class_weight"
   ]
  },
  {
   "cell_type": "code",
   "execution_count": 26,
   "id": "fdd442d2",
   "metadata": {},
   "outputs": [],
   "source": [
    "names = [\n",
    "    \"Nearest Neighbors\",\n",
    "    \"XGBoost\",\n",
    "    \"Random Forest\"\n",
    "]"
   ]
  },
  {
   "cell_type": "code",
   "execution_count": 27,
   "id": "b57073ed",
   "metadata": {},
   "outputs": [],
   "source": [
    "classifiers = [\n",
    "    KNeighborsClassifier(3),\n",
    "    GradientBoostingClassifier(),\n",
    "    RandomForestClassifier(class_weight=class_weight)\n",
    "]"
   ]
  },
  {
   "cell_type": "code",
   "execution_count": 28,
   "id": "8552d506",
   "metadata": {},
   "outputs": [],
   "source": [
    "scores = {}\n",
    "\n",
    "# iterate over classifiers\n",
    "for name, clf in zip(names, classifiers):\n",
    "    # Cross val prediction    \n",
    "    cv_preds = cross_val_predict(clf, X_train_processed, y_train, method='predict_proba')\n",
    "    cv_score = log_loss(y_train, cv_preds)\n",
    "    \n",
    "    # holdout data \n",
    "    clf.fit(X_train_processed, y_train)\n",
    "    hd_preds = clf.predict_proba(X_test_processed)\n",
    "    hd_score = log_loss(y_test, hd_preds)\n",
    "    \n",
    "    # append the scores\n",
    "    scores[name] = [cv_score, hd_score]\n",
    "    #store the model"
   ]
  },
  {
   "cell_type": "code",
   "execution_count": 29,
   "id": "fac86eda",
   "metadata": {},
   "outputs": [
    {
     "data": {
      "text/plain": [
       "{'Nearest Neighbors': [0.6210403921626958, 0.6183440196177838],\n",
       " 'XGBoost': [0.26508862391305427, 0.27065039179988165],\n",
       " 'Random Forest': [0.09847746670067138, 0.07681328898726836]}"
      ]
     },
     "execution_count": 29,
     "metadata": {},
     "output_type": "execute_result"
    }
   ],
   "source": [
    "scores"
   ]
  },
  {
   "cell_type": "code",
   "execution_count": 30,
   "id": "7bbc2263",
   "metadata": {},
   "outputs": [
    {
     "name": "stdout",
     "output_type": "stream",
     "text": [
      "Nearest Neighbors => CV_AUC :  0.6210403921626958, Holdout_AUC:0.6183440196177838\n",
      "XGBoost => CV_AUC :  0.26508862391305427, Holdout_AUC:0.27065039179988165\n",
      "Random Forest => CV_AUC :  0.09847746670067138, Holdout_AUC:0.07681328898726836\n"
     ]
    }
   ],
   "source": [
    "for model, perf in scores.items():\n",
    "    print(f\"{model} => CV_AUC :  {perf[0]}, Holdout_AUC:{perf[1]}\")"
   ]
  },
  {
   "cell_type": "code",
   "execution_count": 31,
   "id": "f888a1f9",
   "metadata": {},
   "outputs": [],
   "source": [
    "param_grid = [\n",
    "    {\n",
    "        'n_estimators': [100, 200],\n",
    "        'n_jobs': [-1]\n",
    "    },\n",
    "    {\n",
    "        'n_estimators': [50, 100, 200],\n",
    "        'max_features': ['log2'],\n",
    "        'n_jobs': [-1]\n",
    "    },\n",
    "    {\n",
    "        'bootstrap': [False],\n",
    "        'n_estimators': [50, 100, 150, 300],\n",
    "        'max_features': [2, 3, 5, 7, 11],\n",
    "        'n_jobs': [-1]\n",
    "    },\n",
    "]"
   ]
  },
  {
   "cell_type": "code",
   "execution_count": 32,
   "id": "a58ed939",
   "metadata": {},
   "outputs": [],
   "source": [
    "scorer = make_scorer(log_loss)"
   ]
  },
  {
   "cell_type": "code",
   "execution_count": 33,
   "id": "b73ed01d",
   "metadata": {
    "scrolled": true
   },
   "outputs": [],
   "source": [
    "RF = RandomForestClassifier(class_weight=class_weight)"
   ]
  },
  {
   "cell_type": "code",
   "execution_count": 34,
   "id": "f451430a",
   "metadata": {},
   "outputs": [],
   "source": [
    "grid_search = GridSearchCV(\n",
    "    RF,\n",
    "    param_grid,\n",
    "    cv=10,\n",
    "    scoring=scorer,\n",
    "    return_train_score=True\n",
    ")"
   ]
  },
  {
   "cell_type": "code",
   "execution_count": 35,
   "id": "d1ecff4b",
   "metadata": {},
   "outputs": [
    {
     "name": "stdout",
     "output_type": "stream",
     "text": [
      "3min 43s ± 9.96 s per loop (mean ± std. dev. of 7 runs, 1 loop each)\n"
     ]
    }
   ],
   "source": [
    "%%timeit\n",
    "\n",
    "grid_search.fit(X_train_processed, y_train)"
   ]
  },
  {
   "cell_type": "code",
   "execution_count": 47,
   "id": "c74983b4",
   "metadata": {},
   "outputs": [
    {
     "data": {
      "text/plain": [
       "{'mean_fit_time': array([0.36118982, 0.51271904, 0.25727394, 0.35094037, 0.55161779,\n",
       "        0.26233773, 0.3924849 , 0.62279427, 1.18965573, 0.42746875,\n",
       "        0.66012888, 0.93162408, 1.67213814, 0.4616039 , 0.60583453,\n",
       "        0.87529261, 1.61469913, 0.4766938 , 0.57346642, 0.80620775,\n",
       "        1.43380997, 0.44590907, 0.48444619, 0.57753236, 0.86647167]),\n",
       " 'std_fit_time': array([0.03405617, 0.0291258 , 0.02361301, 0.0555283 , 0.04106201,\n",
       "        0.01433011, 0.02729905, 0.04507722, 0.15791194, 0.03404229,\n",
       "        0.06787833, 0.06610445, 0.098748  , 0.0239368 , 0.05392378,\n",
       "        0.07609359, 0.12057662, 0.06336212, 0.03877612, 0.0392023 ,\n",
       "        0.14975769, 0.07512644, 0.04367939, 0.05527899, 0.03942214]),\n",
       " 'mean_score_time': array([0.03291688, 0.05405316, 0.02020741, 0.03357511, 0.05909958,\n",
       "        0.01929958, 0.03250132, 0.04479823, 0.0814081 , 0.02270174,\n",
       "        0.04218967, 0.04667428, 0.08289676, 0.01977758, 0.03388798,\n",
       "        0.04449854, 0.08502469, 0.02209685, 0.03224614, 0.04209645,\n",
       "        0.08363583, 0.02291622, 0.03020062, 0.04102097, 0.07370634]),\n",
       " 'std_score_time': array([0.00338602, 0.00499234, 0.00165307, 0.00659912, 0.00880526,\n",
       "        0.00063744, 0.00250215, 0.00342894, 0.0052433 , 0.0020019 ,\n",
       "        0.01157023, 0.00528088, 0.0062999 , 0.00105543, 0.00463337,\n",
       "        0.00498878, 0.00975665, 0.00333265, 0.00281354, 0.00400857,\n",
       "        0.01004671, 0.00571184, 0.00124876, 0.00284669, 0.00615008]),\n",
       " 'param_n_estimators': masked_array(data=[100, 200, 50, 100, 200, 50, 100, 150, 300, 50, 100,\n",
       "                    150, 300, 50, 100, 150, 300, 50, 100, 150, 300, 50,\n",
       "                    100, 150, 300],\n",
       "              mask=[False, False, False, False, False, False, False, False,\n",
       "                    False, False, False, False, False, False, False, False,\n",
       "                    False, False, False, False, False, False, False, False,\n",
       "                    False],\n",
       "        fill_value='?',\n",
       "             dtype=object),\n",
       " 'param_n_jobs': masked_array(data=[-1, -1, -1, -1, -1, -1, -1, -1, -1, -1, -1, -1, -1, -1,\n",
       "                    -1, -1, -1, -1, -1, -1, -1, -1, -1, -1, -1],\n",
       "              mask=[False, False, False, False, False, False, False, False,\n",
       "                    False, False, False, False, False, False, False, False,\n",
       "                    False, False, False, False, False, False, False, False,\n",
       "                    False],\n",
       "        fill_value='?',\n",
       "             dtype=object),\n",
       " 'param_max_features': masked_array(data=[--, --, 'log2', 'log2', 'log2', 2, 2, 2, 2, 3, 3, 3, 3,\n",
       "                    5, 5, 5, 5, 7, 7, 7, 7, 11, 11, 11, 11],\n",
       "              mask=[ True,  True, False, False, False, False, False, False,\n",
       "                    False, False, False, False, False, False, False, False,\n",
       "                    False, False, False, False, False, False, False, False,\n",
       "                    False],\n",
       "        fill_value='?',\n",
       "             dtype=object),\n",
       " 'param_bootstrap': masked_array(data=[--, --, --, --, --, False, False, False, False, False,\n",
       "                    False, False, False, False, False, False, False, False,\n",
       "                    False, False, False, False, False, False, False],\n",
       "              mask=[ True,  True,  True,  True,  True, False, False, False,\n",
       "                    False, False, False, False, False, False, False, False,\n",
       "                    False, False, False, False, False, False, False, False,\n",
       "                    False],\n",
       "        fill_value='?',\n",
       "             dtype=object),\n",
       " 'params': [{'n_estimators': 100, 'n_jobs': -1},\n",
       "  {'n_estimators': 200, 'n_jobs': -1},\n",
       "  {'max_features': 'log2', 'n_estimators': 50, 'n_jobs': -1},\n",
       "  {'max_features': 'log2', 'n_estimators': 100, 'n_jobs': -1},\n",
       "  {'max_features': 'log2', 'n_estimators': 200, 'n_jobs': -1},\n",
       "  {'bootstrap': False, 'max_features': 2, 'n_estimators': 50, 'n_jobs': -1},\n",
       "  {'bootstrap': False, 'max_features': 2, 'n_estimators': 100, 'n_jobs': -1},\n",
       "  {'bootstrap': False, 'max_features': 2, 'n_estimators': 150, 'n_jobs': -1},\n",
       "  {'bootstrap': False, 'max_features': 2, 'n_estimators': 300, 'n_jobs': -1},\n",
       "  {'bootstrap': False, 'max_features': 3, 'n_estimators': 50, 'n_jobs': -1},\n",
       "  {'bootstrap': False, 'max_features': 3, 'n_estimators': 100, 'n_jobs': -1},\n",
       "  {'bootstrap': False, 'max_features': 3, 'n_estimators': 150, 'n_jobs': -1},\n",
       "  {'bootstrap': False, 'max_features': 3, 'n_estimators': 300, 'n_jobs': -1},\n",
       "  {'bootstrap': False, 'max_features': 5, 'n_estimators': 50, 'n_jobs': -1},\n",
       "  {'bootstrap': False, 'max_features': 5, 'n_estimators': 100, 'n_jobs': -1},\n",
       "  {'bootstrap': False, 'max_features': 5, 'n_estimators': 150, 'n_jobs': -1},\n",
       "  {'bootstrap': False, 'max_features': 5, 'n_estimators': 300, 'n_jobs': -1},\n",
       "  {'bootstrap': False, 'max_features': 7, 'n_estimators': 50, 'n_jobs': -1},\n",
       "  {'bootstrap': False, 'max_features': 7, 'n_estimators': 100, 'n_jobs': -1},\n",
       "  {'bootstrap': False, 'max_features': 7, 'n_estimators': 150, 'n_jobs': -1},\n",
       "  {'bootstrap': False, 'max_features': 7, 'n_estimators': 300, 'n_jobs': -1},\n",
       "  {'bootstrap': False, 'max_features': 11, 'n_estimators': 50, 'n_jobs': -1},\n",
       "  {'bootstrap': False, 'max_features': 11, 'n_estimators': 100, 'n_jobs': -1},\n",
       "  {'bootstrap': False, 'max_features': 11, 'n_estimators': 150, 'n_jobs': -1},\n",
       "  {'bootstrap': False, 'max_features': 11, 'n_estimators': 300, 'n_jobs': -1}],\n",
       " 'split0_test_score': array([2.36243341e-01, 2.36243341e-01, 1.88994672e-01, 5.19735349e-01,\n",
       "        2.83492009e-01, 5.19735349e-01, 6.14232686e-01, 4.72486681e-01,\n",
       "        4.25238013e-01, 3.30740677e-01, 1.88994672e-01, 3.30740677e-01,\n",
       "        2.83492009e-01, 2.36243341e-01, 1.41746004e-01, 1.88994672e-01,\n",
       "        1.41746004e-01, 1.41746004e-01, 4.72486681e-02, 4.72486681e-02,\n",
       "        4.72486681e-02, 9.99200722e-16, 4.72486681e-02, 4.72486681e-02,\n",
       "        4.72486681e-02]),\n",
       " 'split1_test_score': array([9.99200722e-16, 4.72497620e-02, 1.41746004e-01, 9.44973362e-02,\n",
       "        1.41746004e-01, 3.77989345e-01, 3.30740677e-01, 3.77989345e-01,\n",
       "        2.83492009e-01, 1.88994672e-01, 1.88994672e-01, 1.41746004e-01,\n",
       "        9.44973362e-02, 9.99200722e-16, 9.99200722e-16, 9.99200722e-16,\n",
       "        9.99200722e-16, 9.99200722e-16, 9.99200722e-16, 9.99200722e-16,\n",
       "        9.99200722e-16, 9.99200722e-16, 9.99200722e-16, 9.99200722e-16,\n",
       "        9.99200722e-16]),\n",
       " 'split2_test_score': array([0.33074396, 0.23624662, 0.18899577, 0.2834931 , 0.23624443,\n",
       "        0.42523801, 0.42523801, 0.37798934, 0.23624334, 0.141746  ,\n",
       "        0.09449734, 0.09449734, 0.141746  , 0.1417471 , 0.09449734,\n",
       "        0.09449734, 0.09449734, 0.09449734, 0.09449843, 0.09449734,\n",
       "        0.1417471 , 0.18899686, 0.14174819, 0.09449843, 0.09449843]),\n",
       " 'split3_test_score': array([1.88994672e-01, 1.41746004e-01, 2.36243341e-01, 9.44973362e-02,\n",
       "        1.41746004e-01, 4.25238013e-01, 3.30740677e-01, 1.88994672e-01,\n",
       "        2.83492009e-01, 1.88994672e-01, 4.72486681e-02, 4.72486681e-02,\n",
       "        4.72486681e-02, 9.99200722e-16, 9.99200722e-16, 4.72486681e-02,\n",
       "        9.99200722e-16, 4.72486681e-02, 4.72486681e-02, 9.99200722e-16,\n",
       "        9.99200722e-16, 4.72486681e-02, 9.99200722e-16, 9.99200722e-16,\n",
       "        9.99200722e-16]),\n",
       " 'split4_test_score': array([1.88997954e-01, 1.41748192e-01, 1.41747098e-01, 4.72486681e-02,\n",
       "        1.88995766e-01, 3.77989345e-01, 2.36243341e-01, 1.88994672e-01,\n",
       "        1.41746004e-01, 4.72486681e-02, 4.72486681e-02, 9.44973362e-02,\n",
       "        4.72486681e-02, 4.72497620e-02, 9.99200722e-16, 9.99200722e-16,\n",
       "        9.99200722e-16, 4.72497620e-02, 4.72497620e-02, 4.72497620e-02,\n",
       "        9.99200722e-16, 4.72497620e-02, 4.72497620e-02, 4.72497620e-02,\n",
       "        4.72497620e-02]),\n",
       " 'split5_test_score': array([9.44984301e-02, 9.44995239e-02, 9.44973362e-02, 1.88994672e-01,\n",
       "        1.88994672e-01, 5.19735349e-01, 3.77989345e-01, 4.25238013e-01,\n",
       "        4.72486681e-01, 1.41746004e-01, 1.41746004e-01, 9.44973362e-02,\n",
       "        9.44973362e-02, 9.99200722e-16, 9.99200722e-16, 9.99200722e-16,\n",
       "        9.99200722e-16, 4.72486681e-02, 4.72486681e-02, 9.99200722e-16,\n",
       "        9.99200722e-16, 4.72497620e-02, 9.99200722e-16, 4.72497620e-02,\n",
       "        4.72497620e-02]),\n",
       " 'split6_test_score': array([1.88995766e-01, 1.88996860e-01, 3.30740677e-01, 2.36243341e-01,\n",
       "        1.88994672e-01, 4.25238013e-01, 5.19735349e-01, 3.77989345e-01,\n",
       "        3.77989345e-01, 1.88994672e-01, 1.41746004e-01, 1.41746004e-01,\n",
       "        9.44973362e-02, 4.72486681e-02, 4.72486681e-02, 4.72486681e-02,\n",
       "        4.72486681e-02, 9.99200722e-16, 9.99200722e-16, 4.72486681e-02,\n",
       "        9.99200722e-16, 9.99200722e-16, 9.99200722e-16, 9.99200722e-16,\n",
       "        4.72497620e-02]),\n",
       " 'split7_test_score': array([9.99200722e-16, 4.73133923e-02, 1.89253569e-01, 1.89253569e-01,\n",
       "        9.46267846e-02, 2.83880354e-01, 1.89253569e-01, 2.36566962e-01,\n",
       "        2.83880354e-01, 9.99200722e-16, 9.46267846e-02, 9.46267846e-02,\n",
       "        9.99200722e-16, 4.73133923e-02, 9.99200722e-16, 9.99200722e-16,\n",
       "        9.99200722e-16, 4.73133923e-02, 9.99200722e-16, 9.99200722e-16,\n",
       "        9.99200722e-16, 9.99200722e-16, 9.99200722e-16, 9.99200722e-16,\n",
       "        9.99200722e-16]),\n",
       " 'split8_test_score': array([1.89254665e-01, 9.46267846e-02, 2.83880354e-01, 1.41940177e-01,\n",
       "        1.41940177e-01, 3.31193746e-01, 2.83880354e-01, 2.36566962e-01,\n",
       "        1.89253569e-01, 9.99200722e-16, 4.73133923e-02, 1.41940177e-01,\n",
       "        9.46267846e-02, 9.99200722e-16, 9.99200722e-16, 9.99200722e-16,\n",
       "        9.99200722e-16, 9.99200722e-16, 9.99200722e-16, 9.99200722e-16,\n",
       "        9.99200722e-16, 9.99200722e-16, 4.73144877e-02, 9.99200722e-16,\n",
       "        9.99200722e-16]),\n",
       " 'split9_test_score': array([0.42582491, 0.4731383 , 0.94627223, 0.42582272, 0.5204517 ,\n",
       "        0.6150741 , 0.6150741 , 0.6150741 , 0.47313392, 0.47313611,\n",
       "        0.28388035, 0.23656696, 0.23656696, 0.18925357, 0.23656696,\n",
       "        0.23656696, 0.23656696, 0.33119594, 0.28388145, 0.23656806,\n",
       "        0.33119594, 0.33119594, 0.33119813, 0.28388364, 0.28388364]),\n",
       " 'mean_test_score': array([0.18435537, 0.17018088, 0.2742371 , 0.22217263, 0.21272322,\n",
       "        0.43013116, 0.39231281, 0.34978901, 0.31669552, 0.17016015,\n",
       "        0.12762966, 0.14181073, 0.11344211, 0.07090558, 0.0520059 ,\n",
       "        0.06145563, 0.0520059 , 0.07564998, 0.05673756, 0.04728125,\n",
       "        0.05201917, 0.0661941 , 0.06147592, 0.05201303, 0.056738  ]),\n",
       " 'std_test_score': array([0.12592307, 0.1200532 , 0.23356558, 0.14345632, 0.11444645,\n",
       "        0.09324644, 0.14188987, 0.13071241, 0.10994789, 0.13902362,\n",
       "        0.07341935, 0.07909316, 0.08242621, 0.08255155, 0.07757055,\n",
       "        0.08204242, 0.07757055, 0.09508901, 0.08139838, 0.07016868,\n",
       "        0.10244778, 0.1040632 , 0.09934561, 0.0831648 , 0.08139897]),\n",
       " 'rank_test_score': array([ 8,  9,  5,  6,  7,  1,  2,  3,  4, 10, 12, 11, 13, 15, 23, 18, 23,\n",
       "        14, 20, 25, 21, 16, 17, 22, 19]),\n",
       " 'split0_train_score': array([9.99200722e-16, 9.99200722e-16, 9.99200722e-16, 9.99200722e-16,\n",
       "        9.99200722e-16, 9.99200722e-16, 9.99200722e-16, 9.99200722e-16,\n",
       "        9.99200722e-16, 9.99200722e-16, 9.99200722e-16, 9.99200722e-16,\n",
       "        9.99200722e-16, 9.99200722e-16, 9.99200722e-16, 9.99200722e-16,\n",
       "        9.99200722e-16, 9.99200722e-16, 9.99200722e-16, 9.99200722e-16,\n",
       "        9.99200722e-16, 9.99200722e-16, 9.99200722e-16, 9.99200722e-16,\n",
       "        9.99200722e-16]),\n",
       " 'split1_train_score': array([9.99200722e-16, 9.99200722e-16, 9.99200722e-16, 9.99200722e-16,\n",
       "        9.99200722e-16, 9.99200722e-16, 9.99200722e-16, 9.99200722e-16,\n",
       "        9.99200722e-16, 9.99200722e-16, 9.99200722e-16, 9.99200722e-16,\n",
       "        9.99200722e-16, 9.99200722e-16, 9.99200722e-16, 9.99200722e-16,\n",
       "        9.99200722e-16, 9.99200722e-16, 9.99200722e-16, 9.99200722e-16,\n",
       "        9.99200722e-16, 9.99200722e-16, 9.99200722e-16, 9.99200722e-16,\n",
       "        9.99200722e-16]),\n",
       " 'split2_train_score': array([9.99200722e-16, 9.99200722e-16, 9.99200722e-16, 9.99200722e-16,\n",
       "        9.99200722e-16, 9.99200722e-16, 9.99200722e-16, 9.99200722e-16,\n",
       "        9.99200722e-16, 9.99200722e-16, 9.99200722e-16, 9.99200722e-16,\n",
       "        9.99200722e-16, 9.99200722e-16, 9.99200722e-16, 9.99200722e-16,\n",
       "        9.99200722e-16, 9.99200722e-16, 9.99200722e-16, 9.99200722e-16,\n",
       "        9.99200722e-16, 9.99200722e-16, 9.99200722e-16, 9.99200722e-16,\n",
       "        9.99200722e-16]),\n",
       " 'split3_train_score': array([9.99200722e-16, 9.99200722e-16, 9.99200722e-16, 9.99200722e-16,\n",
       "        9.99200722e-16, 9.99200722e-16, 9.99200722e-16, 9.99200722e-16,\n",
       "        9.99200722e-16, 9.99200722e-16, 9.99200722e-16, 9.99200722e-16,\n",
       "        9.99200722e-16, 9.99200722e-16, 9.99200722e-16, 9.99200722e-16,\n",
       "        9.99200722e-16, 9.99200722e-16, 9.99200722e-16, 9.99200722e-16,\n",
       "        9.99200722e-16, 9.99200722e-16, 9.99200722e-16, 9.99200722e-16,\n",
       "        9.99200722e-16]),\n",
       " 'split4_train_score': array([9.99200722e-16, 9.99200722e-16, 9.99200722e-16, 9.99200722e-16,\n",
       "        9.99200722e-16, 9.99200722e-16, 9.99200722e-16, 9.99200722e-16,\n",
       "        9.99200722e-16, 9.99200722e-16, 9.99200722e-16, 9.99200722e-16,\n",
       "        9.99200722e-16, 9.99200722e-16, 9.99200722e-16, 9.99200722e-16,\n",
       "        9.99200722e-16, 9.99200722e-16, 9.99200722e-16, 9.99200722e-16,\n",
       "        9.99200722e-16, 9.99200722e-16, 9.99200722e-16, 9.99200722e-16,\n",
       "        9.99200722e-16]),\n",
       " 'split5_train_score': array([9.99200722e-16, 9.99200722e-16, 9.99200722e-16, 9.99200722e-16,\n",
       "        9.99200722e-16, 9.99200722e-16, 9.99200722e-16, 9.99200722e-16,\n",
       "        9.99200722e-16, 9.99200722e-16, 9.99200722e-16, 9.99200722e-16,\n",
       "        9.99200722e-16, 9.99200722e-16, 9.99200722e-16, 9.99200722e-16,\n",
       "        9.99200722e-16, 9.99200722e-16, 9.99200722e-16, 9.99200722e-16,\n",
       "        9.99200722e-16, 9.99200722e-16, 9.99200722e-16, 9.99200722e-16,\n",
       "        9.99200722e-16]),\n",
       " 'split6_train_score': array([9.99200722e-16, 9.99200722e-16, 9.99200722e-16, 9.99200722e-16,\n",
       "        9.99200722e-16, 9.99200722e-16, 9.99200722e-16, 9.99200722e-16,\n",
       "        9.99200722e-16, 9.99200722e-16, 9.99200722e-16, 9.99200722e-16,\n",
       "        9.99200722e-16, 9.99200722e-16, 9.99200722e-16, 9.99200722e-16,\n",
       "        9.99200722e-16, 9.99200722e-16, 9.99200722e-16, 9.99200722e-16,\n",
       "        9.99200722e-16, 9.99200722e-16, 9.99200722e-16, 9.99200722e-16,\n",
       "        9.99200722e-16]),\n",
       " 'split7_train_score': array([9.99200722e-16, 9.99200722e-16, 9.99200722e-16, 9.99200722e-16,\n",
       "        9.99200722e-16, 9.99200722e-16, 9.99200722e-16, 9.99200722e-16,\n",
       "        9.99200722e-16, 9.99200722e-16, 9.99200722e-16, 9.99200722e-16,\n",
       "        9.99200722e-16, 9.99200722e-16, 9.99200722e-16, 9.99200722e-16,\n",
       "        9.99200722e-16, 9.99200722e-16, 9.99200722e-16, 9.99200722e-16,\n",
       "        9.99200722e-16, 9.99200722e-16, 9.99200722e-16, 9.99200722e-16,\n",
       "        9.99200722e-16]),\n",
       " 'split8_train_score': array([9.99200722e-16, 9.99200722e-16, 9.99200722e-16, 9.99200722e-16,\n",
       "        9.99200722e-16, 9.99200722e-16, 9.99200722e-16, 9.99200722e-16,\n",
       "        9.99200722e-16, 9.99200722e-16, 9.99200722e-16, 9.99200722e-16,\n",
       "        9.99200722e-16, 9.99200722e-16, 9.99200722e-16, 9.99200722e-16,\n",
       "        9.99200722e-16, 9.99200722e-16, 9.99200722e-16, 9.99200722e-16,\n",
       "        9.99200722e-16, 9.99200722e-16, 9.99200722e-16, 9.99200722e-16,\n",
       "        9.99200722e-16]),\n",
       " 'split9_train_score': array([9.99200722e-16, 9.99200722e-16, 9.99200722e-16, 9.99200722e-16,\n",
       "        9.99200722e-16, 9.99200722e-16, 9.99200722e-16, 9.99200722e-16,\n",
       "        9.99200722e-16, 9.99200722e-16, 9.99200722e-16, 9.99200722e-16,\n",
       "        9.99200722e-16, 9.99200722e-16, 9.99200722e-16, 9.99200722e-16,\n",
       "        9.99200722e-16, 9.99200722e-16, 9.99200722e-16, 9.99200722e-16,\n",
       "        9.99200722e-16, 9.99200722e-16, 9.99200722e-16, 9.99200722e-16,\n",
       "        9.99200722e-16]),\n",
       " 'mean_train_score': array([9.99200722e-16, 9.99200722e-16, 9.99200722e-16, 9.99200722e-16,\n",
       "        9.99200722e-16, 9.99200722e-16, 9.99200722e-16, 9.99200722e-16,\n",
       "        9.99200722e-16, 9.99200722e-16, 9.99200722e-16, 9.99200722e-16,\n",
       "        9.99200722e-16, 9.99200722e-16, 9.99200722e-16, 9.99200722e-16,\n",
       "        9.99200722e-16, 9.99200722e-16, 9.99200722e-16, 9.99200722e-16,\n",
       "        9.99200722e-16, 9.99200722e-16, 9.99200722e-16, 9.99200722e-16,\n",
       "        9.99200722e-16]),\n",
       " 'std_train_score': array([0., 0., 0., 0., 0., 0., 0., 0., 0., 0., 0., 0., 0., 0., 0., 0., 0.,\n",
       "        0., 0., 0., 0., 0., 0., 0., 0.])}"
      ]
     },
     "execution_count": 47,
     "metadata": {},
     "output_type": "execute_result"
    }
   ],
   "source": [
    "grid_search.cv_results_"
   ]
  },
  {
   "cell_type": "code",
   "execution_count": 36,
   "id": "297b04e8",
   "metadata": {},
   "outputs": [
    {
     "data": {
      "text/plain": [
       "0.4301311628094727"
      ]
     },
     "execution_count": 36,
     "metadata": {},
     "output_type": "execute_result"
    }
   ],
   "source": [
    "grid_search.best_score_"
   ]
  },
  {
   "cell_type": "code",
   "execution_count": 37,
   "id": "3d8175e7",
   "metadata": {},
   "outputs": [
    {
     "data": {
      "text/plain": [
       "{'bootstrap': False, 'max_features': 2, 'n_estimators': 50, 'n_jobs': -1}"
      ]
     },
     "execution_count": 37,
     "metadata": {},
     "output_type": "execute_result"
    }
   ],
   "source": [
    "grid_search.best_params_"
   ]
  },
  {
   "cell_type": "code",
   "execution_count": 38,
   "id": "f70a7379",
   "metadata": {},
   "outputs": [
    {
     "data": {
      "text/plain": [
       "122"
      ]
     },
     "execution_count": 38,
     "metadata": {},
     "output_type": "execute_result"
    }
   ],
   "source": [
    "grid_search.n_features_in_"
   ]
  },
  {
   "cell_type": "code",
   "execution_count": 39,
   "id": "45b7ca52",
   "metadata": {},
   "outputs": [],
   "source": [
    "# grid_search.cv_results_"
   ]
  },
  {
   "cell_type": "code",
   "execution_count": 40,
   "id": "14924957",
   "metadata": {},
   "outputs": [],
   "source": [
    "sk_best = grid_search.best_estimator_"
   ]
  },
  {
   "cell_type": "code",
   "execution_count": 41,
   "id": "87d5be2e",
   "metadata": {},
   "outputs": [
    {
     "data": {
      "text/plain": [
       "RandomForestClassifier(bootstrap=False,\n",
       "                       class_weight={0: 1.0, 1: 1.1037207791833765},\n",
       "                       max_features=2, n_estimators=50, n_jobs=-1)"
      ]
     },
     "execution_count": 41,
     "metadata": {},
     "output_type": "execute_result"
    }
   ],
   "source": [
    "sk_best"
   ]
  },
  {
   "cell_type": "code",
   "execution_count": 42,
   "id": "ac221911",
   "metadata": {},
   "outputs": [],
   "source": [
    "with open(\"model\\\\best.joblib\", 'wb') as output:\n",
    "        pickle.dump(sk_best, output, pickle.HIGHEST_PROTOCOL)"
   ]
  },
  {
   "cell_type": "code",
   "execution_count": 43,
   "id": "36519b8f",
   "metadata": {},
   "outputs": [],
   "source": [
    "##loading the model from the saved file\n",
    "with open('model\\\\best.joblib', 'rb') as input:\n",
    "    model = pickle.load(input)"
   ]
  },
  {
   "cell_type": "code",
   "execution_count": 44,
   "id": "43538bae",
   "metadata": {},
   "outputs": [],
   "source": [
    "# Cross val prediction    \n",
    "cv_one_preds = cross_val_predict(\n",
    "    model,\n",
    "    X_train_processed,\n",
    "    y_train,\n",
    "    method='predict'\n",
    ")"
   ]
  },
  {
   "cell_type": "code",
   "execution_count": 45,
   "id": "683c6581",
   "metadata": {},
   "outputs": [],
   "source": [
    "# create perormances dictionary\n",
    "perf = {'accuracy' : accuracy_score(y_train, cv_one_preds),\n",
    "       'precision': precision_score(y_train, cv_one_preds),\n",
    "       'recall' : recall_score(y_train, cv_one_preds),\n",
    "       'f1_score': f1_score(y_train, cv_one_preds)}"
   ]
  },
  {
   "cell_type": "code",
   "execution_count": 46,
   "id": "f61bb93a",
   "metadata": {},
   "outputs": [],
   "source": [
    "# persist the result\n",
    "output_path = \"model\\\\sk_best_performances.pkl\"\n",
    "with open(output_path, 'wb') as output:\n",
    "        pickle.dump(perf, output, pickle.HIGHEST_PROTOCOL)"
   ]
  },
  {
   "cell_type": "code",
   "execution_count": null,
   "id": "1bf41c93",
   "metadata": {},
   "outputs": [],
   "source": []
  }
 ],
 "metadata": {
  "kernelspec": {
   "display_name": "Python 3",
   "language": "python",
   "name": "python3"
  },
  "language_info": {
   "codemirror_mode": {
    "name": "ipython",
    "version": 3
   },
   "file_extension": ".py",
   "mimetype": "text/x-python",
   "name": "python",
   "nbconvert_exporter": "python",
   "pygments_lexer": "ipython3",
   "version": "3.9.7"
  }
 },
 "nbformat": 4,
 "nbformat_minor": 5
}
