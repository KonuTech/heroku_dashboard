{
 "cells": [
  {
   "cell_type": "code",
   "execution_count": 1,
   "id": "fdb217ba",
   "metadata": {},
   "outputs": [],
   "source": [
    "import pandas as pd\n",
    "import pickle\n",
    "from joblib import dump"
   ]
  },
  {
   "cell_type": "code",
   "execution_count": 2,
   "id": "c861b40f",
   "metadata": {},
   "outputs": [],
   "source": [
    "from sklearn.base import BaseEstimator, TransformerMixin\n",
    "from sklearn.preprocessing import OneHotEncoder, StandardScaler\n",
    "from sklearn.impute import KNNImputer, SimpleImputer\n",
    "from sklearn.pipeline import FeatureUnion, Pipeline \n",
    "from sklearn.compose import ColumnTransformer\n",
    "from sklearn.model_selection import train_test_split, cross_validate, cross_val_predict, GridSearchCV"
   ]
  },
  {
   "cell_type": "code",
   "execution_count": 3,
   "id": "4c27eaed",
   "metadata": {},
   "outputs": [],
   "source": [
    "from sklearn.metrics import log_loss, make_scorer, precision_score, recall_score, accuracy_score, f1_score\n",
    "from joblib import dump, load\n",
    "from sklearn.neighbors import KNeighborsClassifier\n",
    "from sklearn.ensemble import RandomForestClassifier, GradientBoostingClassifier"
   ]
  },
  {
   "cell_type": "code",
   "execution_count": 4,
   "id": "24c3bd50",
   "metadata": {},
   "outputs": [],
   "source": [
    "df = (pd.read_csv(\"inputs\\\\WA_Fn-UseC_-Marketing-Customer-Value-Analysis.csv\").set_index(\"Customer\"))"
   ]
  },
  {
   "cell_type": "code",
   "execution_count": 5,
   "id": "9e4dcb2e",
   "metadata": {},
   "outputs": [
    {
     "data": {
      "text/html": [
       "<div>\n",
       "<style scoped>\n",
       "    .dataframe tbody tr th:only-of-type {\n",
       "        vertical-align: middle;\n",
       "    }\n",
       "\n",
       "    .dataframe tbody tr th {\n",
       "        vertical-align: top;\n",
       "    }\n",
       "\n",
       "    .dataframe thead th {\n",
       "        text-align: right;\n",
       "    }\n",
       "</style>\n",
       "<table border=\"1\" class=\"dataframe\">\n",
       "  <thead>\n",
       "    <tr style=\"text-align: right;\">\n",
       "      <th></th>\n",
       "      <th>State</th>\n",
       "      <th>Customer Lifetime Value</th>\n",
       "      <th>Response</th>\n",
       "      <th>Coverage</th>\n",
       "      <th>Education</th>\n",
       "      <th>Effective To Date</th>\n",
       "      <th>EmploymentStatus</th>\n",
       "      <th>Gender</th>\n",
       "      <th>Income</th>\n",
       "      <th>Location Code</th>\n",
       "      <th>...</th>\n",
       "      <th>Months Since Policy Inception</th>\n",
       "      <th>Number of Open Complaints</th>\n",
       "      <th>Number of Policies</th>\n",
       "      <th>Policy Type</th>\n",
       "      <th>Policy</th>\n",
       "      <th>Renew Offer Type</th>\n",
       "      <th>Sales Channel</th>\n",
       "      <th>Total Claim Amount</th>\n",
       "      <th>Vehicle Class</th>\n",
       "      <th>Vehicle Size</th>\n",
       "    </tr>\n",
       "    <tr>\n",
       "      <th>Customer</th>\n",
       "      <th></th>\n",
       "      <th></th>\n",
       "      <th></th>\n",
       "      <th></th>\n",
       "      <th></th>\n",
       "      <th></th>\n",
       "      <th></th>\n",
       "      <th></th>\n",
       "      <th></th>\n",
       "      <th></th>\n",
       "      <th></th>\n",
       "      <th></th>\n",
       "      <th></th>\n",
       "      <th></th>\n",
       "      <th></th>\n",
       "      <th></th>\n",
       "      <th></th>\n",
       "      <th></th>\n",
       "      <th></th>\n",
       "      <th></th>\n",
       "      <th></th>\n",
       "    </tr>\n",
       "  </thead>\n",
       "  <tbody>\n",
       "    <tr>\n",
       "      <th>MX48796</th>\n",
       "      <td>California</td>\n",
       "      <td>4873.672682</td>\n",
       "      <td>No</td>\n",
       "      <td>Basic</td>\n",
       "      <td>Bachelor</td>\n",
       "      <td>2/14/11</td>\n",
       "      <td>Unemployed</td>\n",
       "      <td>F</td>\n",
       "      <td>0</td>\n",
       "      <td>Suburban</td>\n",
       "      <td>...</td>\n",
       "      <td>5</td>\n",
       "      <td>0</td>\n",
       "      <td>5</td>\n",
       "      <td>Corporate Auto</td>\n",
       "      <td>Corporate L3</td>\n",
       "      <td>Offer1</td>\n",
       "      <td>Agent</td>\n",
       "      <td>356.083230</td>\n",
       "      <td>Four-Door Car</td>\n",
       "      <td>Medsize</td>\n",
       "    </tr>\n",
       "    <tr>\n",
       "      <th>JP55271</th>\n",
       "      <td>Oregon</td>\n",
       "      <td>10633.504960</td>\n",
       "      <td>No</td>\n",
       "      <td>Extended</td>\n",
       "      <td>High School or Below</td>\n",
       "      <td>2/25/11</td>\n",
       "      <td>Employed</td>\n",
       "      <td>F</td>\n",
       "      <td>80046</td>\n",
       "      <td>Rural</td>\n",
       "      <td>...</td>\n",
       "      <td>42</td>\n",
       "      <td>0</td>\n",
       "      <td>4</td>\n",
       "      <td>Personal Auto</td>\n",
       "      <td>Personal L2</td>\n",
       "      <td>Offer2</td>\n",
       "      <td>Call Center</td>\n",
       "      <td>260.627146</td>\n",
       "      <td>SUV</td>\n",
       "      <td>Small</td>\n",
       "    </tr>\n",
       "    <tr>\n",
       "      <th>DR93103</th>\n",
       "      <td>Arizona</td>\n",
       "      <td>17556.991210</td>\n",
       "      <td>No</td>\n",
       "      <td>Basic</td>\n",
       "      <td>Master</td>\n",
       "      <td>2/26/11</td>\n",
       "      <td>Employed</td>\n",
       "      <td>F</td>\n",
       "      <td>36212</td>\n",
       "      <td>Rural</td>\n",
       "      <td>...</td>\n",
       "      <td>57</td>\n",
       "      <td>0</td>\n",
       "      <td>2</td>\n",
       "      <td>Personal Auto</td>\n",
       "      <td>Personal L2</td>\n",
       "      <td>Offer1</td>\n",
       "      <td>Agent</td>\n",
       "      <td>119.033795</td>\n",
       "      <td>Two-Door Car</td>\n",
       "      <td>Medsize</td>\n",
       "    </tr>\n",
       "  </tbody>\n",
       "</table>\n",
       "<p>3 rows × 23 columns</p>\n",
       "</div>"
      ],
      "text/plain": [
       "               State  Customer Lifetime Value Response  Coverage  \\\n",
       "Customer                                                           \n",
       "MX48796   California              4873.672682       No     Basic   \n",
       "JP55271       Oregon             10633.504960       No  Extended   \n",
       "DR93103      Arizona             17556.991210       No     Basic   \n",
       "\n",
       "                     Education Effective To Date EmploymentStatus Gender  \\\n",
       "Customer                                                                   \n",
       "MX48796               Bachelor           2/14/11       Unemployed      F   \n",
       "JP55271   High School or Below           2/25/11         Employed      F   \n",
       "DR93103                 Master           2/26/11         Employed      F   \n",
       "\n",
       "          Income Location Code  ... Months Since Policy Inception  \\\n",
       "Customer                        ...                                 \n",
       "MX48796        0      Suburban  ...                             5   \n",
       "JP55271    80046         Rural  ...                            42   \n",
       "DR93103    36212         Rural  ...                            57   \n",
       "\n",
       "          Number of Open Complaints  Number of Policies     Policy Type  \\\n",
       "Customer                                                                  \n",
       "MX48796                           0                   5  Corporate Auto   \n",
       "JP55271                           0                   4   Personal Auto   \n",
       "DR93103                           0                   2   Personal Auto   \n",
       "\n",
       "                Policy  Renew Offer Type Sales Channel Total Claim Amount  \\\n",
       "Customer                                                                    \n",
       "MX48796   Corporate L3            Offer1         Agent         356.083230   \n",
       "JP55271    Personal L2            Offer2   Call Center         260.627146   \n",
       "DR93103    Personal L2            Offer1         Agent         119.033795   \n",
       "\n",
       "          Vehicle Class Vehicle Size  \n",
       "Customer                              \n",
       "MX48796   Four-Door Car      Medsize  \n",
       "JP55271             SUV        Small  \n",
       "DR93103    Two-Door Car      Medsize  \n",
       "\n",
       "[3 rows x 23 columns]"
      ]
     },
     "execution_count": 5,
     "metadata": {},
     "output_type": "execute_result"
    }
   ],
   "source": [
    "df.sample(3)"
   ]
  },
  {
   "cell_type": "code",
   "execution_count": 6,
   "id": "3c4160b7",
   "metadata": {},
   "outputs": [
    {
     "name": "stdout",
     "output_type": "stream",
     "text": [
      "<class 'pandas.core.frame.DataFrame'>\n",
      "Index: 9134 entries, BU79786 to Y167826\n",
      "Data columns (total 23 columns):\n",
      " #   Column                         Non-Null Count  Dtype  \n",
      "---  ------                         --------------  -----  \n",
      " 0   State                          9134 non-null   object \n",
      " 1   Customer Lifetime Value        9134 non-null   float64\n",
      " 2   Response                       9134 non-null   object \n",
      " 3   Coverage                       9134 non-null   object \n",
      " 4   Education                      9134 non-null   object \n",
      " 5   Effective To Date              9134 non-null   object \n",
      " 6   EmploymentStatus               9134 non-null   object \n",
      " 7   Gender                         9134 non-null   object \n",
      " 8   Income                         9134 non-null   int64  \n",
      " 9   Location Code                  9134 non-null   object \n",
      " 10  Marital Status                 9134 non-null   object \n",
      " 11  Monthly Premium Auto           9134 non-null   int64  \n",
      " 12  Months Since Last Claim        9134 non-null   int64  \n",
      " 13  Months Since Policy Inception  9134 non-null   int64  \n",
      " 14  Number of Open Complaints      9134 non-null   int64  \n",
      " 15  Number of Policies             9134 non-null   int64  \n",
      " 16  Policy Type                    9134 non-null   object \n",
      " 17  Policy                         9134 non-null   object \n",
      " 18  Renew Offer Type               9134 non-null   object \n",
      " 19  Sales Channel                  9134 non-null   object \n",
      " 20  Total Claim Amount             9134 non-null   float64\n",
      " 21  Vehicle Class                  9134 non-null   object \n",
      " 22  Vehicle Size                   9134 non-null   object \n",
      "dtypes: float64(2), int64(6), object(15)\n",
      "memory usage: 1.7+ MB\n"
     ]
    }
   ],
   "source": [
    "df.info()"
   ]
  },
  {
   "cell_type": "code",
   "execution_count": 7,
   "id": "a52f84d3",
   "metadata": {},
   "outputs": [],
   "source": [
    "X = df.drop(['Response'], axis = 1)\n",
    "y = df.Response.apply(lambda X : 0 if X == 'No' else 1)"
   ]
  },
  {
   "cell_type": "code",
   "execution_count": 8,
   "id": "285e3dba",
   "metadata": {},
   "outputs": [],
   "source": [
    "# categorical features\n",
    "cats = [var for var, var_type in X.dtypes.items() if var_type=='object']\n",
    "# numerical features\n",
    "nums = [var for var in X.columns if var not in cats]"
   ]
  },
  {
   "cell_type": "code",
   "execution_count": 9,
   "id": "8ee3372c",
   "metadata": {},
   "outputs": [
    {
     "data": {
      "text/plain": [
       "['State',\n",
       " 'Coverage',\n",
       " 'Education',\n",
       " 'Effective To Date',\n",
       " 'EmploymentStatus',\n",
       " 'Gender',\n",
       " 'Location Code',\n",
       " 'Marital Status',\n",
       " 'Policy Type',\n",
       " 'Policy',\n",
       " 'Renew Offer Type',\n",
       " 'Sales Channel',\n",
       " 'Vehicle Class',\n",
       " 'Vehicle Size']"
      ]
     },
     "execution_count": 9,
     "metadata": {},
     "output_type": "execute_result"
    }
   ],
   "source": [
    "cats"
   ]
  },
  {
   "cell_type": "code",
   "execution_count": 10,
   "id": "d3704af8",
   "metadata": {},
   "outputs": [
    {
     "data": {
      "text/plain": [
       "['Customer Lifetime Value',\n",
       " 'Income',\n",
       " 'Monthly Premium Auto',\n",
       " 'Months Since Last Claim',\n",
       " 'Months Since Policy Inception',\n",
       " 'Number of Open Complaints',\n",
       " 'Number of Policies',\n",
       " 'Total Claim Amount']"
      ]
     },
     "execution_count": 10,
     "metadata": {},
     "output_type": "execute_result"
    }
   ],
   "source": [
    "nums"
   ]
  },
  {
   "cell_type": "code",
   "execution_count": 11,
   "id": "6844712c",
   "metadata": {},
   "outputs": [],
   "source": [
    "# #Custom Transformer that extracts columns passed as argument to its constructor \n",
    "# class FeatureSelector(BaseEstimator, TransformerMixin ):\n",
    "#     #Class Constructor \n",
    "#     def __init__( self, feature_names):\n",
    "#         self._feature_names = feature_names \n",
    "        \n",
    "#     #Return self nothing else to do here    \n",
    "#     def fit( self, X, y = None ):\n",
    "#         return self \n",
    "    \n",
    "#     #Method that describes what we need this transformer to do\n",
    "#     def transform( self, X, y = None ):\n",
    "#         return X[self._feature_names].values "
   ]
  },
  {
   "cell_type": "code",
   "execution_count": 12,
   "id": "abb08b81",
   "metadata": {},
   "outputs": [],
   "source": [
    "#Defining the steps in the categorical pipeline \n",
    "cat_pipeline = Pipeline([(\"imputer\", SimpleImputer(strategy=\"most_frequent\")),\n",
    "                         ('one_hot_encoder', OneHotEncoder(sparse=False))])\n",
    "    \n",
    "#Defining the steps in the numerical pipeline     \n",
    "num_pipeline = Pipeline([\n",
    "        (\"imputer\", SimpleImputer(strategy=\"median\")),\n",
    "        ('std_scaler', StandardScaler()),\n",
    "    ])\n",
    "\n",
    "#Combining numerical and categorical piepline into one full big pipeline horizontally \n",
    "#using FeatureUnion\n",
    "full_pipeline = ColumnTransformer(transformers = [('num_pipeline', num_pipeline, nums),\n",
    "                                                  ('cat_pipeline', cat_pipeline, cats)])"
   ]
  },
  {
   "cell_type": "code",
   "execution_count": 13,
   "id": "90d212c1",
   "metadata": {},
   "outputs": [],
   "source": [
    "X_train, X_test, y_train, y_test = train_test_split(X, y, test_size = 0.2, random_state = 42)\n",
    "#fit and transform the custom transformer in train\n",
    "X_train_processed = full_pipeline.fit_transform(X_train)\n",
    "# transform the test with the trained tansformer\n",
    "X_test_processed = full_pipeline.transform(X_test)"
   ]
  },
  {
   "cell_type": "code",
   "execution_count": 14,
   "id": "4fc58f66",
   "metadata": {},
   "outputs": [],
   "source": [
    "names = [\n",
    "    \"Nearest Neighbors\",\n",
    "    \"XGBoost\",\n",
    "    \"Random Forest\"\n",
    "]"
   ]
  },
  {
   "cell_type": "code",
   "execution_count": 15,
   "id": "9fbe629c",
   "metadata": {},
   "outputs": [],
   "source": [
    "classifiers = [\n",
    "    KNeighborsClassifier(3),\n",
    "    GradientBoostingClassifier(),\n",
    "    RandomForestClassifier()\n",
    "]"
   ]
  },
  {
   "cell_type": "code",
   "execution_count": 16,
   "id": "268fc534",
   "metadata": {},
   "outputs": [],
   "source": [
    "scores = {}\n",
    "\n",
    "# iterate over classifiers\n",
    "for name, clf in zip(names, classifiers):\n",
    "    # Cross val prediction    \n",
    "    cv_preds = cross_val_predict(clf, X_train_processed, y_train, method='predict_proba')\n",
    "    cv_score = log_loss(y_train, cv_preds)\n",
    "    \n",
    "    # holdout data \n",
    "    clf.fit(X_train_processed, y_train)\n",
    "    hd_preds = clf.predict_proba(X_test_processed)\n",
    "    hd_score = log_loss(y_test, hd_preds)\n",
    "    \n",
    "    # append the scores\n",
    "    scores[name] = [cv_score, hd_score]\n",
    "    #store the model"
   ]
  },
  {
   "cell_type": "code",
   "execution_count": 17,
   "id": "ce8d9b8e",
   "metadata": {},
   "outputs": [
    {
     "data": {
      "text/plain": [
       "{'Nearest Neighbors': [0.6210403921626958, 0.6183440196177838],\n",
       " 'XGBoost': [0.26516181474693584, 0.27046517105749024],\n",
       " 'Random Forest': [0.09814905312189907, 0.07476286350133843]}"
      ]
     },
     "execution_count": 17,
     "metadata": {},
     "output_type": "execute_result"
    }
   ],
   "source": [
    "scores"
   ]
  },
  {
   "cell_type": "code",
   "execution_count": 18,
   "id": "57b44221",
   "metadata": {},
   "outputs": [
    {
     "name": "stdout",
     "output_type": "stream",
     "text": [
      "Nearest Neighbors => CV_AUC :  0.6210403921626958, Holdout_AUC:0.6183440196177838\n",
      "XGBoost => CV_AUC :  0.26516181474693584, Holdout_AUC:0.27046517105749024\n",
      "Random Forest => CV_AUC :  0.09814905312189907, Holdout_AUC:0.07476286350133843\n"
     ]
    }
   ],
   "source": [
    "for model, perf in scores.items():\n",
    "    print(f\"{model} => CV_AUC :  {perf[0]}, Holdout_AUC:{perf[1]}\")"
   ]
  },
  {
   "cell_type": "code",
   "execution_count": 19,
   "id": "92e88a0f",
   "metadata": {},
   "outputs": [],
   "source": [
    "param_grid = [\n",
    "    {\n",
    "        'n_estimators': [100, 200],\n",
    "        'n_jobs': [-1]\n",
    "    },\n",
    "    {\n",
    "        'n_estimators': [50, 100, 200],\n",
    "        'max_features': ['log2'],\n",
    "        'n_jobs': [-1]\n",
    "    },\n",
    "    {\n",
    "        'bootstrap': [False],\n",
    "        'n_estimators': [150, 300],\n",
    "        'max_features': [2, 4],\n",
    "        'n_jobs': [-1]\n",
    "    },\n",
    "]"
   ]
  },
  {
   "cell_type": "code",
   "execution_count": 20,
   "id": "872fbda5",
   "metadata": {},
   "outputs": [],
   "source": [
    "scorer = make_scorer(log_loss)"
   ]
  },
  {
   "cell_type": "code",
   "execution_count": 21,
   "id": "de3d5730",
   "metadata": {},
   "outputs": [],
   "source": [
    "RF = RandomForestClassifier()"
   ]
  },
  {
   "cell_type": "code",
   "execution_count": 22,
   "id": "7212bf9f",
   "metadata": {},
   "outputs": [],
   "source": [
    "grid_search = GridSearchCV(\n",
    "    RF,\n",
    "    param_grid,\n",
    "    cv=10,\n",
    "    scoring=scorer,\n",
    "    return_train_score=True\n",
    ")"
   ]
  },
  {
   "cell_type": "code",
   "execution_count": null,
   "id": "eff41cb2",
   "metadata": {},
   "outputs": [],
   "source": [
    "%%timeit\n",
    "\n",
    "grid_search.fit(X_train_processed, y_train)"
   ]
  },
  {
   "cell_type": "code",
   "execution_count": null,
   "id": "19f0e8d4",
   "metadata": {},
   "outputs": [],
   "source": [
    "grid_search.best_estimator_"
   ]
  },
  {
   "cell_type": "code",
   "execution_count": null,
   "id": "8339bc32",
   "metadata": {},
   "outputs": [],
   "source": [
    "sk_best = grid_search.best_estimator_"
   ]
  },
  {
   "cell_type": "code",
   "execution_count": null,
   "id": "394214e8",
   "metadata": {},
   "outputs": [],
   "source": [
    "full_pipeline"
   ]
  },
  {
   "cell_type": "code",
   "execution_count": null,
   "id": "ee4c373d",
   "metadata": {},
   "outputs": [],
   "source": [
    "### Store the one hot encodings (ohe)\n",
    "cat_step = full_pipeline.get_params()['transformer_list'][-1][-1]\n",
    "ohe = cat_step.steps[-1][-1]"
   ]
  },
  {
   "cell_type": "code",
   "execution_count": null,
   "id": "0169ad31",
   "metadata": {},
   "outputs": [],
   "source": []
  }
 ],
 "metadata": {
  "kernelspec": {
   "display_name": "Python 3",
   "language": "python",
   "name": "python3"
  },
  "language_info": {
   "codemirror_mode": {
    "name": "ipython",
    "version": 3
   },
   "file_extension": ".py",
   "mimetype": "text/x-python",
   "name": "python",
   "nbconvert_exporter": "python",
   "pygments_lexer": "ipython3",
   "version": "3.9.7"
  }
 },
 "nbformat": 4,
 "nbformat_minor": 5
}
